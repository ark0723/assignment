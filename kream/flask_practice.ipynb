{
 "cells": [
  {
   "cell_type": "code",
   "execution_count": 1,
   "metadata": {},
   "outputs": [],
   "source": [
    "from flask import Flask"
   ]
  },
  {
   "cell_type": "markdown",
   "metadata": {},
   "source": [
    "# 1.2 Flask 객체를 app에 할당\n",
    "\n",
    "- 1.2.1 __name__이란?\n",
    "    - __name__이라는 변수는 모듈의 이름이 저장됨\n",
    "    - 해당모듈을 직접 실행하는 코드에서는 __main__값이 들어감\n",
    "\n",
    "- 1.2.2 if __name__ == \"__main__\": 의 의미\n",
    "    - 해당 .py파일을 직접 실행하는 경우에만 if __name__ == \"__main__\": 구문의 아래에 해당하는 부분을 실행하겠다"
   ]
  },
  {
   "cell_type": "code",
   "execution_count": 2,
   "metadata": {},
   "outputs": [
    {
     "data": {
      "text/plain": [
       "'__main__'"
      ]
     },
     "execution_count": 2,
     "metadata": {},
     "output_type": "execute_result"
    }
   ],
   "source": [
    "app = Flask(__name__)\n",
    "__name__"
   ]
  },
  {
   "cell_type": "code",
   "execution_count": 3,
   "metadata": {},
   "outputs": [],
   "source": [
    "@app.route(\"/hello\")\n",
    "def hello():\n",
    "    return \"<h1>Hello World!</h1>\""
   ]
  },
  {
   "cell_type": "markdown",
   "metadata": {},
   "source": [
    "##### 메인 모듈로 실행될때 flask 웹서버 구동\n",
    "##### app.run(host = None, port = None, debug = True)\n",
    "##### host: 웹주소, port, debug\n",
    "\n",
    "##### web server and WAS framework\n",
    "##### web server: 정적인 html 페이지를 반환\n",
    "##### 웹서버가 동적으로 데이터를 반환하기 위해서는 WAS프레임워크가 필요함\n",
    "##### 주요 WAS: flask, django, rails, node.js등이 있음\n",
    "\n",
    "####### 기본 개발 프로세스\n",
    "- 자신의 pc에서 웹서비스 구현\n",
    "    - localhost, 127.0.0.1, 또는 0.0.0.0 으로 호스트 설정\n",
    "    - app.run()으로 자체 웹서버 구현 가능\n"
   ]
  },
  {
   "cell_type": "code",
   "execution_count": 4,
   "metadata": {},
   "outputs": [
    {
     "name": "stdout",
     "output_type": "stream",
     "text": [
      " * Serving Flask app '__main__'\n",
      " * Debug mode: off\n"
     ]
    },
    {
     "name": "stderr",
     "output_type": "stream",
     "text": [
      "\u001b[31m\u001b[1mWARNING: This is a development server. Do not use it in a production deployment. Use a production WSGI server instead.\u001b[0m\n",
      " * Running on all addresses (0.0.0.0)\n",
      " * Running on http://127.0.0.1:8080\n",
      " * Running on http://172.30.1.53:8080\n",
      "\u001b[33mPress CTRL+C to quit\u001b[0m\n",
      "127.0.0.1 - - [07/Feb/2024 22:49:25] \"\u001b[33mGET / HTTP/1.1\u001b[0m\" 404 -\n",
      "127.0.0.1 - - [07/Feb/2024 22:49:25] \"\u001b[33mGET /favicon.ico HTTP/1.1\u001b[0m\" 404 -\n",
      "127.0.0.1 - - [07/Feb/2024 22:49:36] \"GET /hello HTTP/1.1\" 200 -\n"
     ]
    }
   ],
   "source": [
    "host_address = '0.0.0.0'\n",
    "port_num = \"8080\"\n",
    "if __name__==\"__main__\":\n",
    "    app.run(host = host_address, port= port_num, debug = True)"
   ]
  },
  {
   "cell_type": "code",
   "execution_count": 6,
   "metadata": {},
   "outputs": [
    {
     "name": "stdout",
     "output_type": "stream",
     "text": [
      " * Serving Flask app '__main__'\n",
      " * Debug mode: off\n"
     ]
    },
    {
     "name": "stderr",
     "output_type": "stream",
     "text": [
      "\u001b[31m\u001b[1mWARNING: This is a development server. Do not use it in a production deployment. Use a production WSGI server instead.\u001b[0m\n",
      " * Running on http://127.0.0.1:8080\n",
      "\u001b[33mPress CTRL+C to quit\u001b[0m\n",
      "127.0.0.1 - - [07/Feb/2024 22:55:09] \"\u001b[33mGET / HTTP/1.1\u001b[0m\" 404 -\n",
      "127.0.0.1 - - [07/Feb/2024 22:55:13] \"GET /hello HTTP/1.1\" 200 -\n"
     ]
    }
   ],
   "source": [
    "# 전체 기본 코드\n",
    "from flask import Flask\n",
    "\n",
    "app = Flask(__name__)\n",
    "\n",
    "@app.route(\"/hello\")\n",
    "def hello():\n",
    "    return \"<h1>Hello, World!</h1>\"\n",
    "\n",
    "if __name__==\"__main__\":\n",
    "    app.run(host = '127.0.0.1', port= '8080')"
   ]
  },
  {
   "cell_type": "code",
   "execution_count": 7,
   "metadata": {},
   "outputs": [
    {
     "name": "stdout",
     "output_type": "stream",
     "text": [
      "<function html_creator.<locals>.text_wrapper at 0x116aa07c0>\n"
     ]
    }
   ],
   "source": [
    "# use fist-class function\n",
    "def html_creator(tag):\n",
    "    def text_wrapper(msg):\n",
    "        print('<{0}>{1}<{0}>'.format(tag, msg))\n",
    "    return text_wrapper\n",
    "\n",
    "h1_html_creator = html_creator(\"h1\")\n",
    "print(h1_html_creator) "
   ]
  },
  {
   "cell_type": "code",
   "execution_count": 8,
   "metadata": {},
   "outputs": [
    {
     "name": "stdout",
     "output_type": "stream",
     "text": [
      "<h1>h1 태그는 타이틀을 표시하는 태그입니다.<h1>\n"
     ]
    }
   ],
   "source": [
    "h1_html_creator(\"h1 태그는 타이틀을 표시하는 태그입니다.\")"
   ]
  },
  {
   "cell_type": "markdown",
   "metadata": {},
   "source": [
    "- 연습문제\n",
    "    - 스트링으로 된 문자열이 주어지면, 정해진 목차 기호로 나열해주는 first-class 함수를 만드세요"
   ]
  },
  {
   "cell_type": "code",
   "execution_count": 9,
   "metadata": {},
   "outputs": [
    {
     "name": "stdout",
     "output_type": "stream",
     "text": [
      "+ 집사기\n",
      "+ 투자하기\n",
      "+ 취직하기\n"
     ]
    }
   ],
   "source": [
    "def index_creator(idx='-'):\n",
    "    def msg(msg_list):\n",
    "        for msg in msg_list:\n",
    "            print('{0} {1}'.format(idx, msg))\n",
    "    \n",
    "    return msg\n",
    "\n",
    "plus_index_creator = index_creator(\"+\")\n",
    "plus_index_creator([\"집사기\", '투자하기','취직하기'])"
   ]
  },
  {
   "cell_type": "markdown",
   "metadata": {},
   "source": [
    "- https://davelee-fun.github.io/blog/crawl_html_css.html\n",
    "- 도전과제:first-class 함수로 다음 사이트의 나만의 엣지있는 블로그 사이트 만들기 코스 리스트를 출력해보세요."
   ]
  },
  {
   "cell_type": "code",
   "execution_count": 11,
   "metadata": {},
   "outputs": [],
   "source": [
    "import requests\n",
    "from bs4 import BeautifulSoup\n",
    "\n",
    "res = requests.get('https://davelee-fun.github.io/blog/crawl_html_css.html')\n",
    "soup = BeautifulSoup(res.text, 'html.parser')"
   ]
  },
  {
   "cell_type": "code",
   "execution_count": 15,
   "metadata": {},
   "outputs": [
    {
     "name": "stdout",
     "output_type": "stream",
     "text": [
      "+ (왕초보) - 클래스 소개\n",
      "@ https://www.fun-coding.org\n",
      "+ (왕초보) - 블로그 개발 필요한 준비물 준비하기\n",
      "@ https://www.fun-coding.org\n",
      "+ (왕초보) - Github pages 설정해서 블로그 첫 페이지 만들어보기\n",
      "@ https://www.fun-coding.org\n",
      "+ (왕초보) - 초간단 페이지 만들어보기\n",
      "@ https://www.fun-coding.org\n",
      "+ (왕초보) - 이쁘게 테마 적용해보기\n",
      "@ https://www.fun-coding.org\n",
      "+ (왕초보) - 마크다운 기초 이해하고, 실제 나만의 블로그 페이지 만들기\n",
      "@ https://www.fun-coding.org\n",
      "+ (왕초보) - 다양한 마크다운 기법 익혀보며, 나만의 블로그 페이지 꾸며보기\n",
      "@ https://www.fun-coding.org\n",
      "+ (초급) - 강사가 실제 사용하는 자동 프로그램 소개 [2]\n",
      "@ https://www.fun-coding.org\n",
      "+ (초급) - 필요한 프로그램 설치 시연 [5]\n",
      "@ https://www.fun-coding.org\n",
      "+ (초급) - 데이터를 엑셀 파일로 만들기 [9]\n",
      "@ https://www.fun-coding.org\n",
      "+ (초급) -     엑셀 파일 이쁘게! 이쁘게! [8]\n",
      "@ https://www.fun-coding.org\n",
      "+ (초급) -     나대신 주기적으로 파이썬 프로그램 실행하기 [7]\n",
      "@ https://www.fun-coding.org\n",
      "+ (초급) - 파이썬으로 슬랙(slack) 메신저에 글쓰기 [40]\n",
      "@ https://www.fun-coding.org\n",
      "+ (초급) - 웹사이트 변경사항 주기적으로 체크해서, 메신저로 알람주기 [12]\n",
      "@ https://www.fun-coding.org\n",
      "+ (초급) - 네이버 API 사용해서, 블로그에 글쓰기 [42]\n",
      "@ https://www.fun-coding.org\n",
      "+ (중급) - 자동으로 쿠팡파트너스 API 로 가져온 상품 정보, 네이버 블로그/트위터에 홍보하기 [412]\n",
      "@ https://www.fun-coding.org\n"
     ]
    }
   ],
   "source": [
    "hobbies = soup.select(\".course\")\n",
    "\n",
    "plus_index_creator = index_creator(\"+\")\n",
    "at_index_creator = index_creator(\"@\")\n",
    "\n",
    "for hobby in hobbies:\n",
    "    plus_index_creator([hobby.text])\n",
    "    link = hobby.select_one(\"a\")['href']\n",
    "    at_index_creator([link])\n",
    "    "
   ]
  },
  {
   "cell_type": "code",
   "execution_count": null,
   "metadata": {},
   "outputs": [],
   "source": []
  }
 ],
 "metadata": {
  "kernelspec": {
   "display_name": "mysql",
   "language": "python",
   "name": "python3"
  },
  "language_info": {
   "codemirror_mode": {
    "name": "ipython",
    "version": 3
   },
   "file_extension": ".py",
   "mimetype": "text/x-python",
   "name": "python",
   "nbconvert_exporter": "python",
   "pygments_lexer": "ipython3",
   "version": "3.12.1"
  }
 },
 "nbformat": 4,
 "nbformat_minor": 2
}
