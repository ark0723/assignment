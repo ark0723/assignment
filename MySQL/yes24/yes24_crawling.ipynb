{
 "cells": [
  {
   "cell_type": "code",
   "execution_count": 1,
   "metadata": {},
   "outputs": [
    {
     "data": {
      "text/plain": [
       "'/Users/mac/.wdm/drivers/chromedriver/mac64/121.0.6167.85/chromedriver-mac-x64/chromedriver'"
      ]
     },
     "execution_count": 1,
     "metadata": {},
     "output_type": "execute_result"
    }
   ],
   "source": [
    "# webdriver-manager 불러오기\n",
    "from webdriver_manager.chrome import ChromeDriverManager\n",
    "ChromeDriverManager().install()"
   ]
  },
  {
   "cell_type": "markdown",
   "metadata": {},
   "source": [
    "#### chromedriver 실행이 되지 않을경우 경로지정: https://emessell.tistory.com/entry/PYTHON-selenium-webdriver-%EA%B2%BD%EB%A1%9C-%EC%B2%98%EB%A6%AC\n",
    "\n",
    "- (1) 상대경로\n",
    "path = \"./chromedriver\"\n",
    "\n",
    "- (2) 절대경로\n",
    "import os\n",
    "path = os.getcwd() + \"/chromedriver\"\n",
    "\n",
    "- browser = webdriver.Chrome() # 경로지정\n",
    "- browser.get(\"http://naver.com\")\n",
    "\n",
    "# 기본함수\n",
    "- browser.back() # 뒤로가기\n",
    "- browser.forward() # 앞으로가기\n",
    "- browser.refresh() # 새로고침\n",
    "\n",
    "# 문법\n",
    "- By.CLASS_NAME\t태그의 클래스명으로 추출\n",
    "- By.TAG_NAME\t태그 이름으로 추출\n",
    "- By.ID\t태그의 id값으로 추출\n",
    "- By.XPATH\t태그의 경로로 추출\n"
   ]
  },
  {
   "cell_type": "code",
   "execution_count": 22,
   "metadata": {},
   "outputs": [],
   "source": [
    "# import libraries\n",
    "from selenium import webdriver\n",
    "from selenium.webdriver.common.by import By\n",
    "from selenium.webdriver.chrome.options import Options\n",
    "from selenium.webdriver.common.keys import Keys\n",
    "\n",
    "import time\n",
    "import random"
   ]
  },
  {
   "cell_type": "code",
   "execution_count": 17,
   "metadata": {},
   "outputs": [],
   "source": [
    "# 브라우저 띄우기\n",
    "options = Options()\n",
    "\n",
    "user = \"Mozilla/5.0 (Macintosh; Intel Mac OS X 10_15_7) AppleWebKit/537.36 (KHTML, like Gecko) Chrome/121.0.0.0 Safari/537.36\"\n",
    "options.add_argument(f\"User-Agent = {user}\")\n",
    "browser = webdriver.Chrome(options = options)\n",
    "# 원하는 url로 이동\n",
    "url = \"https://www.yes24.com/Product/Category/BestSeller?categoryNumber=001&pageNumber=1&pageSize=24\"\n",
    "browser.get(url)"
   ]
  },
  {
   "cell_type": "code",
   "execution_count": null,
   "metadata": {},
   "outputs": [],
   "source": [
    "# 1페이지 링크 데이터 전부 수집\n",
    "links = browser.find_elements(By.CLASS_NAME , \"gd_name\")\n",
    "print(len(links))\n",
    "link_list = []\n",
    "for link in links:\n",
    "    link_list.append(link.get_attribute(\"href\"))"
   ]
  },
  {
   "cell_type": "code",
   "execution_count": 25,
   "metadata": {},
   "outputs": [
    {
     "name": "stdout",
     "output_type": "stream",
     "text": [
      "********** 현재 1 페이지 수집중입니다. **********\n",
      "********** 현재 2 페이지 수집중입니다. **********\n",
      "********** 현재 3 페이지 수집중입니다. **********\n",
      "['https://www.yes24.com/Product/Goods/122120495', 'https://www.yes24.com/Product/Goods/123675187', 'https://www.yes24.com/Product/Goods/117014613', 'https://www.yes24.com/Product/Goods/124043812', 'https://www.yes24.com/Product/Goods/124043802', 'https://www.yes24.com/Product/Goods/122090360', 'https://www.yes24.com/Product/Goods/123400303', 'https://www.yes24.com/Product/Goods/122944685', 'https://www.yes24.com/Product/Goods/124702623', 'https://www.yes24.com/Product/Goods/124112599', 'https://www.yes24.com/Product/Goods/118579613', 'https://www.yes24.com/Product/Goods/124574394', 'https://www.yes24.com/Product/Goods/124501342', 'https://www.yes24.com/Product/Goods/124539805', 'https://www.yes24.com/Product/Goods/119562091', 'https://www.yes24.com/Product/Goods/124408170', 'https://www.yes24.com/Product/Goods/122428190', 'https://www.yes24.com/Product/Goods/119458052', 'https://www.yes24.com/Product/Goods/118413014', 'https://www.yes24.com/Product/Goods/123930891', 'https://www.yes24.com/Product/Goods/124707232', 'https://www.yes24.com/Product/Goods/122426425', 'https://www.yes24.com/Product/Goods/123930880', 'https://www.yes24.com/Product/Goods/79297023', 'https://www.yes24.com/Product/Goods/124719615', 'https://www.yes24.com/Product/Goods/119120517', 'https://www.yes24.com/Product/Goods/124397623', 'https://www.yes24.com/Product/Goods/123318244', 'https://www.yes24.com/Product/Goods/122880691', 'https://www.yes24.com/Product/Goods/124472824', 'https://www.yes24.com/Product/Goods/124347651', 'https://www.yes24.com/Product/Goods/118569079', 'https://www.yes24.com/Product/Goods/124733569', 'https://www.yes24.com/Product/Goods/67362730', 'https://www.yes24.com/Product/Goods/8759796', 'https://www.yes24.com/Product/Goods/124717965', 'https://www.yes24.com/Product/Goods/124645703', 'https://www.yes24.com/Product/Goods/124127709', 'https://www.yes24.com/Product/Goods/116467955', 'https://www.yes24.com/Product/Goods/124702605', 'https://www.yes24.com/Product/Goods/114853233', 'https://www.yes24.com/Product/Goods/122433629', 'https://www.yes24.com/Product/Goods/79208821', 'https://www.yes24.com/Product/Goods/124027690', 'https://www.yes24.com/Product/Goods/9349031', 'https://www.yes24.com/Product/Goods/124184330', 'https://www.yes24.com/Product/Goods/124157362', 'https://www.yes24.com/Product/Goods/90428162', 'https://www.yes24.com/Product/Goods/124702004', 'https://www.yes24.com/Product/Goods/124702295', 'https://www.yes24.com/Product/Goods/120785860', 'https://www.yes24.com/Product/Goods/91868954', 'https://www.yes24.com/Product/Goods/120761010', 'https://www.yes24.com/Product/Goods/118578901', 'https://www.yes24.com/Product/Goods/124518483', 'https://www.yes24.com/Product/Goods/124014108', 'https://www.yes24.com/Product/Goods/124106975', 'https://www.yes24.com/Product/Goods/123676271', 'https://www.yes24.com/Product/Goods/124219505', 'https://www.yes24.com/Product/Goods/123623040', 'https://www.yes24.com/Product/Goods/124644662', 'https://www.yes24.com/Product/Goods/123623043', 'https://www.yes24.com/Product/Goods/124315515', 'https://www.yes24.com/Product/Goods/124315134', 'https://www.yes24.com/Product/Goods/124219508', 'https://www.yes24.com/Product/Goods/96072143', 'https://www.yes24.com/Product/Goods/106369008', 'https://www.yes24.com/Product/Goods/124300539', 'https://www.yes24.com/Product/Goods/124339743', 'https://www.yes24.com/Product/Goods/124393292', 'https://www.yes24.com/Product/Goods/123876440', 'https://www.yes24.com/Product/Goods/121911671']\n"
     ]
    }
   ],
   "source": [
    "# 브라우저 띄우기\n",
    "options = Options()\n",
    "user = \"Mozilla/5.0 (Macintosh; Intel Mac OS X 10_15_7) AppleWebKit/537.36 (KHTML, like Gecko) Chrome/121.0.0.0 Safari/537.36\"\n",
    "options.add_argument(f\"User-Agent = {user}\")\n",
    "browser = webdriver.Chrome(options=options)\n",
    "\n",
    "link_list = []\n",
    "for page in range(1,4):\n",
    "    print(\"*\"*10, f'현재 {page} 페이지 수집중입니다.', \"*\"*10)\n",
    "    url = \"https://www.yes24.com/Product/Category/BestSeller?categoryNumber=001&pageNumber={}&pageSize=24\".format(page)\n",
    "    \n",
    "    # 브라우저 띄우기\n",
    "    browser.get(url)\n",
    "     # 각 페이지마다 도서의 링크 데이터 수집\n",
    "    data = browser.find_elements(By.CLASS_NAME, 'gd_name')\n",
    "    for i in data:\n",
    "        link = i.get_attribute(\"href\")\n",
    "        link_list.append(link)\n",
    "\n",
    "    time.sleep(3)\n",
    "\n",
    "print(link_list)"
   ]
  },
  {
   "cell_type": "code",
   "execution_count": null,
   "metadata": {},
   "outputs": [],
   "source": []
  }
 ],
 "metadata": {
  "kernelspec": {
   "display_name": "mysql",
   "language": "python",
   "name": "python3"
  },
  "language_info": {
   "codemirror_mode": {
    "name": "ipython",
    "version": 3
   },
   "file_extension": ".py",
   "mimetype": "text/x-python",
   "name": "python",
   "nbconvert_exporter": "python",
   "pygments_lexer": "ipython3",
   "version": "3.12.1"
  }
 },
 "nbformat": 4,
 "nbformat_minor": 2
}
